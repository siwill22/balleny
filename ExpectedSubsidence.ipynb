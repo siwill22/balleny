{
 "cells": [
  {
   "cell_type": "code",
   "execution_count": 13,
   "id": "pleased-scotland",
   "metadata": {},
   "outputs": [],
   "source": [
    "import numpy as np\n",
    "\n",
    "# Define a function to compute the expected depth based on age for Stein and Stein (1992)\n",
    "\n",
    "def GetExpectedSeafloorDepth(seafloor_age):\n",
    "    if seafloor_age<=20.:\n",
    "        SteinStein = 365. * np.sqrt(seafloor_age) + 2600.\n",
    "    else:\n",
    "        SteinStein = 5651. - 2473 * np.exp(-0.0278 * seafloor_age) \n",
    "    return SteinStein\n",
    "\n"
   ]
  },
  {
   "cell_type": "code",
   "execution_count": 18,
   "id": "interstate-morocco",
   "metadata": {},
   "outputs": [
    {
     "name": "stdout",
     "output_type": "stream",
     "text": [
      "3754.231345961459\n",
      "2600.0\n"
     ]
    }
   ],
   "source": [
    "print(GetExpectedSeafloorDepth(10.))\n",
    "print(GetExpectedSeafloorDepth(0.))\n"
   ]
  },
  {
   "cell_type": "code",
   "execution_count": 20,
   "id": "western-announcement",
   "metadata": {},
   "outputs": [
    {
     "name": "stdout",
     "output_type": "stream",
     "text": [
      "1632.3296235748467\n"
     ]
    }
   ],
   "source": [
    "# expected subsidence is the difference between expected depth now based on \n",
    "# age of seafloor (or seamount?), and expected depth at formation based on Stein and Stein\n",
    "\n",
    "expected_subsidence = GetExpectedSeafloorDepth(20.) - GetExpectedSeafloorDepth(0.)\n",
    "print(expected_subsidence)"
   ]
  },
  {
   "cell_type": "code",
   "execution_count": null,
   "id": "intellectual-layer",
   "metadata": {},
   "outputs": [],
   "source": []
  }
 ],
 "metadata": {
  "kernelspec": {
   "display_name": "Python [conda env:pygmt]",
   "language": "python",
   "name": "conda-env-pygmt-py"
  },
  "language_info": {
   "codemirror_mode": {
    "name": "ipython",
    "version": 3
   },
   "file_extension": ".py",
   "mimetype": "text/x-python",
   "name": "python",
   "nbconvert_exporter": "python",
   "pygments_lexer": "ipython3",
   "version": "3.8.6"
  }
 },
 "nbformat": 4,
 "nbformat_minor": 5
}
